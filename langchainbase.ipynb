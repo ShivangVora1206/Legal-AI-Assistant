{
 "cells": [
  {
   "cell_type": "code",
   "execution_count": 1,
   "id": "ec2b3970",
   "metadata": {},
   "outputs": [],
   "source": [
    "#self add\n",
    "from langchain.chat_models import init_chat_model\n",
    "from langchain_ollama import OllamaEmbeddings\n",
    "model = init_chat_model(\"gemma3:1b\", model_provider=\"ollama\")\n",
    "embeddings = OllamaEmbeddings(model=\"nomic-embed-text\")"
   ]
  },
  {
   "cell_type": "code",
   "execution_count": 2,
   "id": "ef7ded5d",
   "metadata": {},
   "outputs": [],
   "source": [
    "from langchain_core.vectorstores import InMemoryVectorStore\n",
    "\n",
    "vector_store = InMemoryVectorStore(embeddings)"
   ]
  },
  {
   "cell_type": "code",
   "execution_count": 4,
   "id": "69696207",
   "metadata": {},
   "outputs": [],
   "source": [
    "import json\n",
    "from langchain.text_splitter import RecursiveCharacterTextSplitter\n",
    "from langchain_core.documents import Document\n",
    "with open('data/art15.json' , 'r') as f:\n",
    "    data = json.dumps(f.read())\n",
    "    docs = [Document(page_content=data, metadata={\"source\": \"art15.json\"})]\n",
    "\n",
    "text_splitter = RecursiveCharacterTextSplitter(chunk_size=1000, chunk_overlap=200)\n",
    "all_splits = text_splitter.split_documents(docs)"
   ]
  },
  {
   "cell_type": "markdown",
   "id": "5966c599",
   "metadata": {},
   "source": [
    "Embed & Store Vectors"
   ]
  },
  {
   "cell_type": "code",
   "execution_count": null,
   "id": "464cbdfa",
   "metadata": {},
   "outputs": [],
   "source": [
    "# Index chunks\n",
    "_ = vector_store.add_documents(documents=all_splits)"
   ]
  },
  {
   "cell_type": "code",
   "execution_count": null,
   "id": "4185cf8a",
   "metadata": {},
   "outputs": [],
   "source": [
    "retriever = vector_store.as_retriever(\n",
    "    search_type = \"similarity\",     # \"mmr\" or \"similarity_score_threshold\" also work\n",
    "    search_kwargs = {\"k\": 4}\n",
    ")\n"
   ]
  },
  {
   "cell_type": "code",
   "execution_count": null,
   "id": "ffc6be4f",
   "metadata": {},
   "outputs": [],
   "source": [
    "from langchain.chains.combine_documents import create_stuff_documents_chain\n",
    "from langchain.chains import create_retrieval_chain\n",
    "from langchain.prompts import ChatPromptTemplate\n",
    "\n",
    "SYSTEM = \"\"\"You are an expert legal assistant.\n",
    "Answer *only* from the context between <context></context>;\n",
    "if the answer isn’t there, say “I don't know.”\"\"\"\n",
    "USER = \"\"\"<context>\\n{context}\\n</context>\\n\\nQuestion: {input}\"\"\"\n",
    "\n",
    "prompt = ChatPromptTemplate.from_messages([(\"system\", SYSTEM), (\"user\", USER)])\n",
    "\n",
    "\n",
    "combine_docs_chain = create_stuff_documents_chain(model, prompt)  \n",
    "\n",
    "\n",
    "rag_chain = create_retrieval_chain(retriever, combine_docs_chain) #The Runnable return is a dictionary containing at the very least a context and answer key."
   ]
  },
  {
   "cell_type": "code",
   "execution_count": null,
   "id": "2064b439",
   "metadata": {},
   "outputs": [
    {
     "data": {
      "text/plain": [
       "RunnableBinding(bound=RunnableAssign(mapper={\n",
       "  context: RunnableBinding(bound=RunnableLambda(lambda x: x['input'])\n",
       "           | VectorStoreRetriever(tags=['InMemoryVectorStore', 'OllamaEmbeddings'], vectorstore=<langchain_core.vectorstores.in_memory.InMemoryVectorStore object at 0x7f17c7376e90>, search_kwargs={'k': 4}), kwargs={}, config={'run_name': 'retrieve_documents'}, config_factories=[])\n",
       "})\n",
       "| RunnableAssign(mapper={\n",
       "    answer: RunnableBinding(bound=RunnableBinding(bound=RunnableAssign(mapper={\n",
       "              context: RunnableLambda(format_docs)\n",
       "            }), kwargs={}, config={'run_name': 'format_inputs'}, config_factories=[])\n",
       "            | ChatPromptTemplate(input_variables=['context', 'input'], input_types={}, partial_variables={}, messages=[SystemMessagePromptTemplate(prompt=PromptTemplate(input_variables=[], input_types={}, partial_variables={}, template=\"You are an expert legal assistant.\\nAnswer *only* from the context between <context></context>;\\nif the answer isn’t there, say “I don't know.”\"), additional_kwargs={}), HumanMessagePromptTemplate(prompt=PromptTemplate(input_variables=['context', 'input'], input_types={}, partial_variables={}, template='<context>\\n{context}\\n</context>\\n\\nQuestion: {input}'), additional_kwargs={})])\n",
       "            | ChatOllama(model='gemma3:1b')\n",
       "            | StrOutputParser(), kwargs={}, config={'run_name': 'stuff_documents_chain'}, config_factories=[])\n",
       "  }), kwargs={}, config={'run_name': 'retrieval_chain'}, config_factories=[])"
      ]
     },
     "metadata": {},
     "output_type": "display_data"
    }
   ],
   "source": [
    "rag_chain"
   ]
  },
  {
   "cell_type": "code",
   "execution_count": null,
   "id": "ab1d0860",
   "metadata": {},
   "outputs": [
    {
     "name": "stdout",
     "output_type": "stream",
     "text": [
      "No, this is not allowed under Article 15 of the Indian Constitution. The text states: “No citizen shall, on grounds only of religion, race, caste, sex, or any of them, be subject to any disability, liability, restriction or condition with regard to —(a) Access to shops, public restaurants, hotels and places of public entertainment; or(b) The use of wells, tanks, bathing ghats, roads and places of public resort maintained wholly or partly out of State funds or dedicated to the use of.” The provision explicitly prohibits discrimination based on religion, race, caste, sex, or place of birth.\n",
      "[Document(id='9dc11878-a2c6-42c2-9b20-ab2c77bcd609', metadata={'source': 'https://www.constitutionofindia.net/articles/article-15-prohibition-of-discrimination-on-grounds-of-religion-race-caste-sex-or-place-of-birth/'}, page_content='no citizen shall, on grounds only of religion, race, caste, sex or any of them, be subject to any disability, liability, restriction or condition with regard to-(a) Access to shops, public restaurants, hotels and places of public entertainment, or'), Document(id='aa06ee99-f71b-494a-ac72-d44628dd2356', metadata={'source': 'https://www.constitutionofindia.net/articles/article-15-prohibition-of-discrimination-on-grounds-of-religion-race-caste-sex-or-place-of-birth/'}, page_content='to their admission to educational institutions including private educational institutions, whether aided or unaided by the State, other than the minority educational institutions referred to in clause (1) of article 30, which in the case of reservation would be in addition to the existing reservations and subject to a maximum of ten per cent. of the total seats in each category.Explanation.— For the purposes of this article and article 16, “economically weaker sections” shall be such as may be notified by the State from time to time on the basis of family income and other indicators of economic disadvantage.Version 1Article 9, Draft Constitution of India 1948(1) The State shall not discriminate against any citizen on grounds only of religion, race, caste, sex or any of them. In particular, no citizen shall, on grounds only of religion, race, caste, sex or any of them, be subject to any disability, liability, restriction or condition with regard to-(a) Access to shops, public'), Document(id='527983bd-65f4-460a-abe2-832e43f86ea1', metadata={'source': 'https://www.constitutionofindia.net/articles/article-15-prohibition-of-discrimination-on-grounds-of-religion-race-caste-sex-or-place-of-birth/'}, page_content='(b) The use of wells, tanks 3, roads and places of public resort maintained wholly or partly out of the revenues of the State or dedicated to the use of the general public.(2) Nothing in this article shall prevent the State from making any special provision for women and children.Version 2Article 15, Constitution of India 1950(1) The State shall not discriminate against any citizen on grounds only of religion, race, caste, sex, place of birth or any of them.(2) No citizen shall, on grounds only of religion, race, caste, sex, place of birth or any of them, be subject to any disability, liability, restriction or condition with regard to —(a) Access to shops, public restaurants, hotels and places of public entertainment; or(b) The use of wells, tanks, bathing ghats, roads and places of public resort maintained wholly or partly out of State funds or dedicated to the use of the general public.(3) Nothing in this article shall prevent the State from making any special provision for women'), Document(id='aa46be75-1880-4c06-82b4-bea272d84122', metadata={'source': 'https://www.constitutionofindia.net/articles/article-15-prohibition-of-discrimination-on-grounds-of-religion-race-caste-sex-or-place-of-birth/'}, page_content='Articles that engage with important political, social and legal developments in India and the world through constitutional and political history.Our writings and research brought to life through voice. Also features interviews with scholars and educators.Workshops, talks, and educational videos exclusively produced by us on India’s constitutional origins.Prohibition of discrimination on grounds of religion, race, caste, sex or place of birth(1) The State shall not discriminate against any citizen on grounds only of religion, race, caste, sex, place of birth or any of them.(2) No citizen shall, on grounds only of religion, race, caste, sex, place of birth or any of them, be subject to any disability, liability, restriction or condition with regard to—(a) access to shops, public restaurants, hotels and places of public entertainment; or(b) The use of wells, tanks, bathing ghats, roads and places of public resort maintained wholly or partly out of State funds or dedicated to the use of')]\n"
     ]
    }
   ],
   "source": [
    "question = \"Ajay does not allow a customer to enter his shop because he is a Muslim. Is this allowed under Article 15 of the Indian Constitution?\" \n",
    "result   = rag_chain.invoke({\"input\": question})\n",
    "\n",
    "print(result[\"answer\"])      # grounded answer\n",
    "print(result[\"context\"])     # the stuffed context string (if you need sources, see below)\n"
   ]
  },
  {
   "cell_type": "code",
   "execution_count": null,
   "id": "f2046e44",
   "metadata": {},
   "outputs": [],
   "source": []
  }
 ],
 "metadata": {
  "kernelspec": {
   "display_name": "AI",
   "language": "python",
   "name": "python3"
  },
  "language_info": {
   "codemirror_mode": {
    "name": "ipython",
    "version": 3
   },
   "file_extension": ".py",
   "mimetype": "text/x-python",
   "name": "python",
   "nbconvert_exporter": "python",
   "pygments_lexer": "ipython3",
   "version": "3.11.11"
  }
 },
 "nbformat": 4,
 "nbformat_minor": 5
}
