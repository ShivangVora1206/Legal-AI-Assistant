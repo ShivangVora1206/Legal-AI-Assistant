{
 "cells": [
  {
   "cell_type": "code",
   "execution_count": 1,
   "id": "4ea35d85",
   "metadata": {},
   "outputs": [
    {
     "data": {
      "text/plain": [
       "[TextNode(id_='59de8771-cfc5-43c8-9fde-ca71a1c696bd', embedding=None, metadata={'file_path': '/home/shivangvora/Legal-AI-Assistant/data/art15.json', 'file_name': 'art15.json', 'file_type': 'application/json', 'file_size': 3533, 'creation_date': '2025-05-16', 'last_modified_date': '2025-05-16'}, excluded_embed_metadata_keys=['file_name', 'file_type', 'file_size', 'creation_date', 'last_modified_date', 'last_accessed_date'], excluded_llm_metadata_keys=['file_name', 'file_type', 'file_size', 'creation_date', 'last_modified_date', 'last_accessed_date'], relationships={<NodeRelationship.SOURCE: '1'>: RelatedNodeInfo(node_id='61047104-657a-42fe-91f6-447a8b142869', node_type=<ObjectType.DOCUMENT: '4'>, metadata={'file_path': '/home/shivangvora/Legal-AI-Assistant/data/art15.json', 'file_name': 'art15.json', 'file_type': 'application/json', 'file_size': 3533, 'creation_date': '2025-05-16', 'last_modified_date': '2025-05-16'}, hash='bc1bfaf991b31ab4f4d5ae12716657fedaad156c6c3a668fe499378232aa864a')}, metadata_template='{key}: {value}', metadata_separator='\\n', text='ArtNo 15\\nSubHeading Right to Equality\\nName Prohibition of discrimination on grounds of religion, race, caste, sex or place of birth.\\nClauses ClauseNo 1\\nClauses ClauseDesc The State shall not discriminate against any citizen on grounds only of religion, race, caste, sex, place of birth or any of them.\\nClauses ClauseNo 2\\nClauses ClauseDesc No citizen shall, on grounds only of religion, race, caste, sex, place of birth or any of them, be subject to any disability, liability, restriction or condition with regard to—\\nClauses SubClauses SubClauseNo a\\nClauses SubClauses SubClauseDesc access to shops, public restaurants, hotels and places of public entertainment; or\\nClauses SubClauses SubClauseNo b\\nClauses SubClauses SubClauseDesc the use of wells, tanks, bathing ghats, roads and places of public resort maintained wholly or partly out of State funds or dedicated to the use of the general public.\\nClauses ClauseNo 3\\nClauses ClauseDesc Nothing in this article shall prevent the State from making any special provision for women and children.\\nClauses ClauseNo 4\\nClauses ClauseDesc Nothing in this article or in clause (2) of article 29 shall prevent the State from making any special provision for the advancement of any socially and educationally backward classes of citizens or for the Scheduled Castes and the Scheduled Tribes\\nClauses ClauseNo 5\\nClauses ClauseDesc Nothing in this article or in sub-clause (g) of clause (1) of article 19 shall prevent the State from making any special provision, by law, for the advancement of any socially and educationally backward classes of citizens or for the Scheduled Castes or the Scheduled Tribes in so far as such special provisions relate to their admission to educational institutions including private educational institutions, whether aided or unaided by the State, other than the minority educational institutions referred to in clause (1) of article 30.\\nClauses ClauseNo 6\\nClauses ClauseDesc Nothing in this article or sub-clause (g) of clause (1) of article 19 or clause (2) of article 29 shall prevent the State from making,—\\nClauses SubClauses SubClauseNo a\\nClauses SubClauses SubClauseDesc any special provision for the advancement of any economically weaker sections of citizens other than the classes mentioned in clauses (4) and (5); and\\nClauses SubClauses SubClauseNo b\\nClauses SubClauses SubClauseDesc any special provision for the advancement of any economically weaker sections of citizens other than the classes mentioned in clauses (4) and (5) in so far as such special provisions relate to their admission to educational institutions including private educational institutions, whether aided or unaided by the State, other than the minority educational institutions referred to in clause (1) of article 30, which in the case of reservation would be in addition to the existing reservations and subject to a maximum of ten per cent. of the total seats in each category.\\nExplanations ExplanationNo 1\\nExplanations Explanation For the purposes of this article and article 16, \"economically weaker sections\" shall be such as may be notified by the State from time to time on the basis of family income and other indicators of economic disadvantage.', mimetype='text/plain', start_char_idx=None, end_char_idx=None, metadata_seperator='\\n', text_template='{metadata_str}\\n\\n{content}')]"
      ]
     },
     "execution_count": 1,
     "metadata": {},
     "output_type": "execute_result"
    }
   ],
   "source": [
    "#Loading/Ingestion\n",
    "from llama_index.core import SimpleDirectoryReader\n",
    "from llama_index.core.ingestion import IngestionPipeline\n",
    "from llama_index.core.node_parser import JSONNodeParser\n",
    "\n",
    "\n",
    "documents = SimpleDirectoryReader(\"./data\").load_data()\n",
    "\n",
    "pipeline = IngestionPipeline(transformations=[JSONNodeParser()])\n",
    "\n",
    "nodes = pipeline.run(documents=documents)\n",
    "nodes\n",
    "\n",
    "# Transformations#\n",
    "# After the data is loaded, you then need to process and transform your data before putting it into a storage system. These transformations include chunking, extracting metadata, and embedding each chunk. This is necessary to make sure that the data can be retrieved, and used optimally by the LLM.\n",
    "\n",
    "# Transformation input/outputs are Node objects (a Document is a subclass of a Node). Transformations can also be stacked and reordered."
   ]
  },
  {
   "cell_type": "code",
   "execution_count": 5,
   "id": "146b2830",
   "metadata": {},
   "outputs": [],
   "source": [
    "#Indexing/Embedding for Ollama\n",
    "from llama_index.llms.ollama import Ollama\n",
    "from llama_index.embeddings.huggingface import HuggingFaceEmbedding\n",
    "from llama_index.core import Settings\n",
    "from llama_index.core import VectorStoreIndex\n",
    "\n",
    "Settings.llm = Ollama(model=\"gemma3:1b\", request_timeout=600.0)\n",
    "Settings.embed_model = HuggingFaceEmbedding(model_name=\"sentence-transformers/all-MiniLM-L6-v2\")\n",
    "\n",
    "index = VectorStoreIndex(nodes)"
   ]
  },
  {
   "cell_type": "code",
   "execution_count": 3,
   "id": "3554f5ea",
   "metadata": {},
   "outputs": [],
   "source": [
    "#Storing\n",
    "index.storage_context.persist(persist_dir=\"index-persistent\")\n",
    "\n",
    "\n",
    "from llama_index.core import StorageContext, load_index_from_storage\n",
    "\n",
    "# rebuild storage context\n",
    "storage_context = StorageContext.from_defaults(persist_dir=\"index-persistent\")\n",
    "\n",
    "# load index\n",
    "index = load_index_from_storage(storage_context)"
   ]
  },
  {
   "cell_type": "code",
   "execution_count": null,
   "id": "0b8c66fc",
   "metadata": {},
   "outputs": [],
   "source": [
    "#Querying\n",
    "from llama_index.core import VectorStoreIndex, get_response_synthesizer\n",
    "from llama_index.core.retrievers import VectorIndexRetriever\n",
    "from llama_index.core.query_engine import RetrieverQueryEngine\n",
    "from llama_index.core.postprocessor import SimilarityPostprocessor\n",
    "# configure retriever\n",
    "retriever = VectorIndexRetriever(\n",
    "    index=index,\n",
    "    similarity_top_k=10,\n",
    "    similarity_metric=\"cosine\",\n",
    ")\n",
    "\n",
    "# configure response synthesizer\n",
    "response_synthesizer = get_response_synthesizer()\n",
    "\n",
    "# assemble query engine\n",
    "query_engine = RetrieverQueryEngine(\n",
    "    retriever=retriever,\n",
    "    response_synthesizer=response_synthesizer,\n",
    "    node_postprocessors=[SimilarityPostprocessor(similarity_cutoff=0.7)],\n",
    ")\n",
    "\n",
    "query_engine = index.as_query_engine()\n"
   ]
  },
  {
   "cell_type": "code",
   "execution_count": 8,
   "id": "c28328d7",
   "metadata": {},
   "outputs": [
    {
     "name": "stdout",
     "output_type": "stream",
     "text": [
      "The provided text does not explicitly state whether Ajay is allowed to deny a customer entry to his store based on religion. However, the text outlines the State’s obligation to ensure equal treatment for all citizens, regardless of religion, and explicitly prohibits discrimination based on religion. This suggests the State has the power to intervene to prevent discriminatory practices, including those related to religious affiliation. Therefore, while the text doesn’t directly address the situation, it establishes a legal framework that could be interpreted as allowing such a restriction.\n"
     ]
    }
   ],
   "source": [
    "response = query_engine.query(\n",
    "    \"Ajay is a shop owner who does not allow Alex a customer to enter his store because Alex is from a different religion. Is this allowed under Article 15 of the Indian Constitution? Explain your reasoning.\"\n",
    ")\n",
    "print(response)"
   ]
  }
 ],
 "metadata": {
  "kernelspec": {
   "display_name": "AI",
   "language": "python",
   "name": "python3"
  },
  "language_info": {
   "codemirror_mode": {
    "name": "ipython",
    "version": 3
   },
   "file_extension": ".py",
   "mimetype": "text/x-python",
   "name": "python",
   "nbconvert_exporter": "python",
   "pygments_lexer": "ipython3",
   "version": "3.11.11"
  }
 },
 "nbformat": 4,
 "nbformat_minor": 5
}
